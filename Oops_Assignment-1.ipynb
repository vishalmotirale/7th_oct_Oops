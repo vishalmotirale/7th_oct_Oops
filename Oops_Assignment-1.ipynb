{
 "cells": [
  {
   "cell_type": "markdown",
   "id": "225dfb57-b6d2-4303-a63f-42c370bb022b",
   "metadata": {},
   "source": [
    "#### Problem 1. Bank Account Create a class representing a bank account with attributes like account number, account holder name, and balance.Implement methods to deposit and withdraw money from the account"
   ]
  },
  {
   "cell_type": "code",
   "execution_count": 7,
   "id": "6784213e-6725-43bd-823e-80c0228d2d84",
   "metadata": {},
   "outputs": [
    {
     "name": "stdout",
     "output_type": "stream",
     "text": [
      "Deposite 500. New balance 1500.0.\n",
      "Withraw 200. New balance 1300.0.\n",
      "Current balance : 1300.0\n"
     ]
    }
   ],
   "source": [
    "class BankAccount:\n",
    "    def __init__(self, account_no, account_holder_name, balance = 0.0 ):\n",
    "        self.account_no = account_no\n",
    "        self.account_holder_name = account_holder_name\n",
    "        self.balance = balance\n",
    "    def deposite(self, amount):\n",
    "        if amount > 0:\n",
    "            self.balance += amount\n",
    "            print (f\"Deposite {amount}. New balance {self.balance}.\")\n",
    "        else:\n",
    "            print(\"Deposite amount must be positive.\")\n",
    "    def withdraw(self, amount):\n",
    "        if amount >0:\n",
    "            if amount <= self.balance:\n",
    "                self.balance -= amount\n",
    "                print(f\"Withraw {amount}. New balance {self.balance}.\")\n",
    "            else:\n",
    "                print(\"Insufficient balance for withdrawal.\")\n",
    "        else:\n",
    "            print(\"Withdrawal amount must be positive.\")\n",
    "    def get_balance(self):\n",
    "        return self.balance\n",
    "\n",
    "account = BankAccount(\"123456789\", \"vishal\", 1000.0)\n",
    "account.deposite(500)\n",
    "account.withdraw(200)\n",
    "print(f\"Current balance : {account.get_balance()}\")"
   ]
  },
  {
   "cell_type": "markdown",
   "id": "4c013676-5009-4faa-a76f-58b99c957ddc",
   "metadata": {},
   "source": [
    "#### Problem 2: Employee Management Create a class representing an employee with attributes like employee ID, name, and salary. Implementmethods to calculate the yearly bonus and display employee details"
   ]
  },
  {
   "cell_type": "code",
   "execution_count": 8,
   "id": "34633386-4c0a-47e1-b5b8-867970f0f4c8",
   "metadata": {},
   "outputs": [
    {
     "name": "stdout",
     "output_type": "stream",
     "text": [
      "Employee ID: E001\n",
      "Name: randip\n",
      "Salary: 60000\n",
      "Yearly bonus : 6000.0\n"
     ]
    }
   ],
   "source": [
    "class Employee:\n",
    "    def __init__(self, employee_Id, name, salary):\n",
    "        self.employee_Id = employee_Id\n",
    "        self.name = name\n",
    "        self.salary = salary\n",
    "    def yearly_bonus(self, bonus_percentage):\n",
    "        return self.salary*(bonus_percentage / 100)\n",
    "    def display_details(self):\n",
    "        print(f\"Employee ID: {self.employee_Id}\")\n",
    "        print(f\"Name: {self.name}\")\n",
    "        print(f\"Salary: {self.salary}\")\n",
    "\n",
    "employee = Employee(\"E001\", \"randip\", 60000)\n",
    "employee.display_details()\n",
    "bonus = employee.yearly_bonus(10)\n",
    "print(f\"Yearly bonus : {bonus}\")"
   ]
  },
  {
   "cell_type": "markdown",
   "id": "ed409806-dbf8-406e-bd2d-f8608ef827ad",
   "metadata": {},
   "source": [
    "#### Problem 3: Vehicle Rental Create a class representing a vehicle rental system. Implement methods to rent a vehicle, return a vehicle, and display available vehicles."
   ]
  },
  {
   "cell_type": "code",
   "execution_count": 13,
   "id": "fbe1c026-03f5-4e23-8386-ef6eade65592",
   "metadata": {},
   "outputs": [
    {
     "name": "stdout",
     "output_type": "stream",
     "text": [
      "Available vahiclels.\n",
      "ID: V001, type: ['type']\n",
      "ID: V002, type: ['type']\n",
      "ID: V003, type: ['type']\n",
      "Vehicle V001 rented successfull.\n",
      "Available vahiclels.\n",
      "ID: V002, type: ['type']\n",
      "ID: V003, type: ['type']\n",
      "Vehicle V001 returned successfully.\n",
      "Available vahiclels.\n",
      "ID: V002, type: ['type']\n",
      "ID: V003, type: ['type']\n",
      "ID: V001, type: ['type']\n"
     ]
    }
   ],
   "source": [
    "class VehicleRentalSystem:\n",
    "    def __init__(self):\n",
    "        self.available_vehicles = []\n",
    "        self.rented_vehicles = []\n",
    "    def add_vehicle(self, vehicle_id, vehicle_type):\n",
    "        vehicle = {\"id\": vehicle_id, \"type\": vehicle_type}\n",
    "        self.available_vehicles.append(vehicle)\n",
    "    def rent_vehicle(self, vehicle_id):\n",
    "        for vehicle in self.available_vehicles:\n",
    "            if vehicle[\"id\"] == vehicle_id:\n",
    "                self.available_vehicles.remove(vehicle)\n",
    "                self.rented_vehicles.append(vehicle)\n",
    "                print(f\"Vehicle {vehicle_id} rented successfull.\")\n",
    "                return\n",
    "        print(f\"Vahicle {vehicle_id} rented seccessfully.\")\n",
    "    def return_vehicle(self, vehicle_id):\n",
    "        for vehicle in self.rented_vehicles:\n",
    "            if vehicle[\"id\"] == vehicle_id:\n",
    "                self.rented_vehicles.remove(vehicle)\n",
    "                self.available_vehicles.append(vehicle)\n",
    "                print(f\"Vehicle {vehicle_id} returned successfully.\")\n",
    "                return\n",
    "        print(f\"Vehicle {vehicle_id} was not rented from here.\")\n",
    "    def display_available_vehicles(self):\n",
    "        if not self.available_vehicles:\n",
    "            print(\"No vehicles availables for rent.\")\n",
    "        else:\n",
    "            print(\"Available vahiclels.\")\n",
    "            for vehicle in self.available_vehicles:\n",
    "                print(f\"ID: {vehicle['id']}, type: {['type']}\")\n",
    "\n",
    "rental_system = VehicleRentalSystem()\n",
    "rental_system.add_vehicle(\"V001\", \"Car\")\n",
    "rental_system.add_vehicle(\"V002\", \"Bike\")\n",
    "rental_system.add_vehicle(\"V003\", \"Scooter\")\n",
    "\n",
    "rental_system.display_available_vehicles()\n",
    "rental_system.rent_vehicle(\"V001\")\n",
    "rental_system.display_available_vehicles()\n",
    "rental_system.return_vehicle(\"V001\")\n",
    "rental_system.display_available_vehicles()"
   ]
  },
  {
   "cell_type": "markdown",
   "id": "a5232bb3-d2d6-406f-9d59-dc0a58f042ce",
   "metadata": {},
   "source": [
    "#### Problem 4: Library Catalog Create classes representing a library and a book. Implement methods to add books to the library, borrow books, and display available books."
   ]
  },
  {
   "cell_type": "code",
   "execution_count": 22,
   "id": "dd92f305-09a0-4639-ab2d-225511d7728e",
   "metadata": {},
   "outputs": [
    {
     "name": "stdout",
     "output_type": "stream",
     "text": [
      "Added : Godaan by Munshi Premchand (Available: True)\n",
      "Added : Nazar by Rahat Indori (Available: True)\n",
      "Added : Madhushala by Harivansh Rai Bachchan (Available: True)\n",
      "Availble books:\n",
      "Godaan by Munshi Premchand (Available: True)\n",
      "Nazar by Rahat Indori (Available: True)\n",
      "Madhushala by Harivansh Rai Bachchan (Available: True)\n",
      "You have borrowed : Madhushala by Harivansh Rai Bachchan (Available: False)\n",
      "Availble books:\n",
      "Godaan by Munshi Premchand (Available: True)\n",
      "Nazar by Rahat Indori (Available: True)\n",
      "Thank you for returning : Madhushala by Harivansh Rai Bachchan (Available: True)\n",
      "Availble books:\n",
      "Godaan by Munshi Premchand (Available: True)\n",
      "Nazar by Rahat Indori (Available: True)\n",
      "Madhushala by Harivansh Rai Bachchan (Available: True)\n"
     ]
    }
   ],
   "source": [
    "class Book:\n",
    "    def __init__(self, title, author):\n",
    "        self.title = title\n",
    "        self.author = author\n",
    "        self.is_available = True\n",
    "    def __str__(self):\n",
    "        return f\"{self.title} by {self.author} (Available: {self.is_available})\"\n",
    "class Library:\n",
    "    def __init__(self):\n",
    "        self.book = []\n",
    "    def add_book(self, title, author):\n",
    "        book = Book(title, author)\n",
    "        self.book.append(book)\n",
    "        print(f\"Added : {book}\")\n",
    "    def borrow_book(self, title):\n",
    "        for book in self.book:\n",
    "            if book.title == title and book.is_available:\n",
    "                book.is_available = False\n",
    "                print(f\"You have borrowed : {book}\")\n",
    "                return\n",
    "        print(f\"Sorry, the book '{title}' is either not available or not in the catalog.\")\n",
    "    def return_book(self, title):\n",
    "        for book in self.book:\n",
    "            if book.title == title and not book.is_available:\n",
    "                book.is_available = True\n",
    "                print(f\"Thank you for returning : {book}\")\n",
    "                return\n",
    "        print(f\"The book '{title}' was not borrowed from this library.\")\n",
    "    def display_available_books(self):\n",
    "        available_books = [book for book in self.book if book.is_available]\n",
    "        if not available_books:\n",
    "            print(\"No books are currently available.\")\n",
    "        else:\n",
    "            print(\"Availble books:\")\n",
    "            for book in available_books:\n",
    "                print(book)\n",
    "\n",
    "library = Library()\n",
    "library.add_book(\"Godaan\", \"Munshi Premchand\")\n",
    "library.add_book(\"Nazar\", \"Rahat Indori\")\n",
    "library.add_book(\"Madhushala\", \"Harivansh Rai Bachchan\")\n",
    "\n",
    "library.display_available_books()\n",
    "library.borrow_book(\"Madhushala\")\n",
    "library.display_available_books()\n",
    "library.return_book(\"Madhushala\")\n",
    "library.display_available_books()"
   ]
  },
  {
   "cell_type": "markdown",
   "id": "e61d5e29-5bf7-493c-94b5-516f7881ed95",
   "metadata": {},
   "source": [
    "#### Problem 5: Product Inventory Create classes representing a product and an inventory system. Implement methods to add products to the inventory, update product quantity, and display available products."
   ]
  },
  {
   "cell_type": "code",
   "execution_count": 27,
   "id": "4b47eac6-481e-41e9-84e5-73e5572c7d8d",
   "metadata": {},
   "outputs": [
    {
     "name": "stdout",
     "output_type": "stream",
     "text": [
      "Added/Updated product: Product: Laptop, Price: 80000, Quantity: 10\n",
      "Added/Updated product: Product: Mobile, Price: 40000, Quantity: 20\n",
      "Added/Updated product: Product: Tablet, Price: 48000, Quantity: 15\n",
      "Available products:\n",
      "Product: Laptop, Price: 80000, Quantity: 10\n",
      "Product: Mobile, Price: 40000, Quantity: 20\n",
      "Product: Tablet, Price: 48000, Quantity: 15\n",
      "Updated product quantity: Product: Laptop, Price: 80000, Quantity: 15\n",
      "Updated product quantity: Product: Mobile, Price: 40000, Quantity: 15\n",
      "Available products:\n",
      "Product: Laptop, Price: 80000, Quantity: 15\n",
      "Product: Mobile, Price: 40000, Quantity: 15\n",
      "Product: Tablet, Price: 48000, Quantity: 15\n"
     ]
    }
   ],
   "source": [
    "class Product:\n",
    "    def __init__(self, name, price, quantity):\n",
    "        self.name = name\n",
    "        self.price = price\n",
    "        self.quantity = quantity\n",
    "    def __str__(self):\n",
    "        return f\"Product: {self.name}, Price: {self.price}, Quantity: {self.quantity}\"\n",
    "\n",
    "class Inventory:\n",
    "    def __init__(self):\n",
    "        self.products = {}\n",
    "    def add_product(self, name, price, quantity):\n",
    "        if name in self.products:\n",
    "            self.products[name].quantity += quantity\n",
    "        else:\n",
    "            product = Product(name, price, quantity)\n",
    "            self.products[name] = product\n",
    "        print(f\"Added/Updated product: {self.products[name]}\")\n",
    "    def update_product_quantity(self, name, quantity):\n",
    "        if name in self.products:\n",
    "            self.products[name].quantity += quantity\n",
    "            if self.products[name].quantity < 0:\n",
    "                self.products[name].quantity = 0\n",
    "            print(f\"Updated product quantity: {self.products[name]}\")\n",
    "        else:\n",
    "            print(f\"Product '{name}' not found in inventory.\")\n",
    "    def display_available_products(self):\n",
    "        if not self.products:\n",
    "            print(\"No products available in inventory.\")\n",
    "        else:\n",
    "            print(\"Available products:\")\n",
    "            for product in self.products.values():\n",
    "                print(product)\n",
    "\n",
    "inventory = Inventory()\n",
    "inventory.add_product(\"Laptop\", 80000, 10)\n",
    "inventory.add_product(\"Mobile\", 40000, 20)\n",
    "inventory.add_product(\"Tablet\", 48000, 15)\n",
    "\n",
    "inventory.display_available_products()\n",
    "inventory.update_product_quantity('Laptop',5)\n",
    "inventory.update_product_quantity('Mobile',-5)\n",
    "inventory.display_available_products()"
   ]
  },
  {
   "cell_type": "markdown",
   "id": "5a0b3926-966d-4206-829a-404ad7049317",
   "metadata": {},
   "source": [
    "#### Problem 6: Shape Calculation Create a class representing a shape with attributes like length, width, and height. Implement methods to calculate the area and perimeter of the shape."
   ]
  },
  {
   "cell_type": "code",
   "execution_count": 32,
   "id": "1b31dd57-b506-4ff5-813c-f5ea58eee511",
   "metadata": {},
   "outputs": [
    {
     "name": "stdout",
     "output_type": "stream",
     "text": [
      "Rectangle with length 5 and width 3\n",
      "Area: 15\n",
      "Perimeter: 16\n",
      "Rectangle with length 4 and width 4\n",
      "Area: 16\n",
      "Perimeter: 16\n"
     ]
    }
   ],
   "source": [
    "class Shape:\n",
    "    def __init__(self,length, width):\n",
    "        self.length = length\n",
    "        self.width = width\n",
    "    def area(self):\n",
    "        raise NotImplementedError(\"Subclass must implement this method\")\n",
    "    def perimeter(self):\n",
    "        raise NotImplementedError(\"Subclass must implement this method\")\n",
    "    def __str__(self):\n",
    "        return f\"Shape with length {self.length} and width {self.width}\"\n",
    "\n",
    "class Rectangle(Shape):\n",
    "    def __init__(self, length, width):\n",
    "        super().__init__(length, width)\n",
    "    def area(self):\n",
    "        return self.length*self.width\n",
    "    def perimeter(self):\n",
    "        return 2*(self.length + self.width)\n",
    "    def __str__(self):\n",
    "        return f\"Rectangle with length {self.length} and width {self.width}\"\n",
    "\n",
    "rectangle = Rectangle(5, 3)\n",
    "print(rectangle)\n",
    "print(f\"Area: {rectangle.area()}\")\n",
    "print(f\"Perimeter: {rectangle.perimeter()}\")\n",
    "\n",
    "square = Rectangle(4,4)\n",
    "print(square)\n",
    "print(f\"Area: {square.area()}\")\n",
    "print(f\"Perimeter: {square.perimeter()}\")"
   ]
  },
  {
   "cell_type": "markdown",
   "id": "3d40248c-c435-4035-88ad-55de39eabbd3",
   "metadata": {},
   "source": [
    "#### Problem 7: Student Management Create a class representing a student with attributes like student ID, name, and grades. Implement methods to calculate the average grade and display student details."
   ]
  },
  {
   "cell_type": "code",
   "execution_count": 34,
   "id": "842488bc-78bb-4d72-899e-c8592c9a5e12",
   "metadata": {},
   "outputs": [
    {
     "name": "stdout",
     "output_type": "stream",
     "text": [
      "Student ID : S001\n",
      "Name: John Doe\n",
      "Grades: [85, 75, 90]\n",
      "Average Grade: 83.33333333333333\n"
     ]
    }
   ],
   "source": [
    "class Student:\n",
    "    def __init__(self, student_id, name, grades = None):\n",
    "        self.student_id =student_id\n",
    "        self.name =name\n",
    "        self.grades =grades if grades is not None else []\n",
    "    def add_grade(self, grade):\n",
    "        self.grades.append(grade)\n",
    "    def calculate_average_grade(self):\n",
    "        if not self.grades:\n",
    "            return 0.0\n",
    "        return sum(self.grades) / len(self.grades)\n",
    "    def display_details(self):\n",
    "        average_grade = self.calculate_average_grade()\n",
    "        print(f\"Student ID : {self.student_id}\")\n",
    "        print(f\"Name: {self.name}\")\n",
    "        print(f\"Grades: {self.grades}\")\n",
    "        print(f\"Average Grade: {average_grade:}\")\n",
    "\n",
    "student = Student(\"S001\", \"John Doe\")\n",
    "student.add_grade(85)\n",
    "student.add_grade(75)\n",
    "student.add_grade(90)\n",
    "student.display_details()"
   ]
  },
  {
   "cell_type": "markdown",
   "id": "540611fe-57ab-42ab-9509-7c3e09f9a64e",
   "metadata": {},
   "source": [
    "#### Problem 8: Email Management Create a class representing an email with attributes like sender, recipient, and subject. Implement methods to send an email and display email details."
   ]
  },
  {
   "cell_type": "code",
   "execution_count": 37,
   "id": "463a6bf0-4473-490f-a301-7a0dfe488306",
   "metadata": {},
   "outputs": [
    {
     "name": "stdout",
     "output_type": "stream",
     "text": [
      "From: vishal@example.com\n",
      "To: bob@example.com\n",
      "Subject: Meeting reminder\n",
      "Body: Don't forget our meeting at 10 AM.\n",
      "Sending email...\n",
      "From: vishal@example.com\n",
      "To: bob@example.com\n",
      "subject: Meeting reminder\n",
      "Body: Don't forget our meeting at 10 AM.\n",
      "Email sent successfully!\n"
     ]
    }
   ],
   "source": [
    "class Email:\n",
    "    def __init__(self, sender, recipient,subject, body):\n",
    "        self.sender = sender\n",
    "        self.recipient = recipient\n",
    "        self.subject = subject\n",
    "        self.body = body\n",
    "    def send(self):\n",
    "        print(\"Sending email...\")\n",
    "        print(f\"From: {self.sender}\")\n",
    "        print(f\"To: {self.recipient}\")\n",
    "        print(f\"subject: {self.subject}\")\n",
    "        print(f\"Body: {self.body}\")\n",
    "        print(\"Email sent successfully!\")\n",
    "    def display_details(self):\n",
    "        print(f\"From: {self.sender}\")\n",
    "        print(f\"To: {self.recipient}\")\n",
    "        print(f\"Subject: {self.subject}\")\n",
    "        print(f\"Body: {self.body}\")\n",
    "\n",
    "email = Email(\"vishal@example.com\", \"bob@example.com\", \"Meeting reminder\", \"Don't forget our meeting at 10 AM.\")\n",
    "email.display_details()\n",
    "email.send()"
   ]
  },
  {
   "cell_type": "markdown",
   "id": "267d8542-de9c-4e6a-8bd4-d7ac4d6b3de3",
   "metadata": {},
   "source": [
    "#### Problem 9: Social Media Pro le Create a class representing a social media pro le with attributes like username and posts. Implement methods to add posts, display posts, and search for posts by keyword"
   ]
  },
  {
   "cell_type": "code",
   "execution_count": 48,
   "id": "2177004e-e809-4a02-b3c9-1ec34a96f56e",
   "metadata": {},
   "outputs": [
    {
     "name": "stdout",
     "output_type": "stream",
     "text": [
      "Added post: Hello, world!\n",
      "Added post: Just had a great lunch.\n",
      "Added post: Learing python is fun!\n",
      "Posts by vishal:\n",
      "1. Hello, world!\n",
      "2. Just had a great lunch.\n",
      "3. Learing python is fun!\n",
      "Posts containing keyword 'great':\n",
      "1. Just had a great lunch.\n",
      "Posts containing keyword 'Python':\n",
      "1. Learing python is fun!\n",
      "No posts found containing keyword: Java\n"
     ]
    }
   ],
   "source": [
    "class SocialMediaProfile:\n",
    "    def __init__(self, username):\n",
    "        self.username = username\n",
    "        self.posts =[]\n",
    "    def add_post(self, content):\n",
    "        post = {'content': content}\n",
    "        self.posts.append(post)\n",
    "        print(f\"Added post: {content}\")\n",
    "    def display_posts(self):\n",
    "        if not self.posts:\n",
    "            print(\"No posts available.\")\n",
    "        else:\n",
    "            print(f\"Posts by {self.username}:\")\n",
    "            for i, post in enumerate(self.posts, start=1):\n",
    "                print(f\"{i}. {post['content']}\")\n",
    "    def search_posts(self, keyword):\n",
    "        matching_posts = [post for post in self.posts if keyword.lower() in post['content'].lower()]\n",
    "        if not matching_posts:\n",
    "            print(f\"No posts found containing keyword: {keyword}\")\n",
    "        else:\n",
    "            print(f\"Posts containing keyword '{keyword}':\")\n",
    "            for i, post in enumerate(matching_posts, start=1):\n",
    "                print(f\"{i}. {post['content']}\")\n",
    "\n",
    "profile = SocialMediaProfile('vishal')\n",
    "profile.add_post(\"Hello, world!\")\n",
    "profile.add_post(\"Just had a great lunch.\")\n",
    "profile.add_post(\"Learing python is fun!\")\n",
    "\n",
    "profile.display_posts()\n",
    "profile.search_posts(\"great\")\n",
    "profile.search_posts(\"Python\")\n",
    "profile.search_posts(\"Java\")"
   ]
  },
  {
   "cell_type": "markdown",
   "id": "08ab8767-5064-4b9e-b30f-8ecd8ed69b92",
   "metadata": {},
   "source": [
    "#### Problem 10: ToDo List Create a class representing a ToDo list with attributes like tasks and due dates. Implement methods to add tasks, mark tasks as completed, and display pending tasks"
   ]
  },
  {
   "cell_type": "code",
   "execution_count": 50,
   "id": "0171aaa7-b6c3-4897-8b6d-18c61c933945",
   "metadata": {},
   "outputs": [
    {
     "name": "stdout",
     "output_type": "stream",
     "text": [
      "Added task: Task: Finish homework, Due Date: 2024-05-21, Status:Pending\n",
      "Added task: Task: Buy groceries, Due Date: 2024-05-20, Status:Pending\n",
      "Added task: Task: Schedule dentist appointment, Due Date: 2024-05-25, Status:Pending\n",
      "Pending tasks:\n",
      "Task: Finish homework, Due Date: 2024-05-21, Status:Pending\n",
      "Task: Buy groceries, Due Date: 2024-05-20, Status:Pending\n",
      "Task: Schedule dentist appointment, Due Date: 2024-05-25, Status:Pending\n",
      "Marked task as completed: Task: Buy groceries, Due Date: 2024-05-20, Status:Completed\n",
      "Pending tasks:\n",
      "Task: Finish homework, Due Date: 2024-05-21, Status:Pending\n",
      "Task: Schedule dentist appointment, Due Date: 2024-05-25, Status:Pending\n"
     ]
    }
   ],
   "source": [
    "class Task :\n",
    "    def __init__(self, description, due_date):\n",
    "        self.description = description\n",
    "        self.due_date = due_date\n",
    "        self.completed =False\n",
    "    def mark_completed(self):\n",
    "        self.completed =True\n",
    "    def __str__(self):\n",
    "        status = \"Completed\" if self.completed else \"Pending\"\n",
    "        return f\"Task: {self.description}, Due Date: {self.due_date}, Status:{status}\"\n",
    "\n",
    "class ToDoList:\n",
    "    def __init__(self):\n",
    "        self.tasks = []\n",
    "    def add_task(self, description, due_date):\n",
    "        task = Task(description, due_date)\n",
    "        self.tasks.append(task)\n",
    "        print(f\"Added task: {task}\")\n",
    "    def mark_task_completed(self, description):\n",
    "        for task in self.tasks:\n",
    "            if task.description == description and not task.completed:\n",
    "                task.mark_completed()\n",
    "                print(f\"Marked task as completed: {task}\")\n",
    "                return\n",
    "        print(f\"Task '{description}' not fount or already completed.\")\n",
    "    def display_pending_tasks(self):\n",
    "        pending_tasks = [task for task in self.tasks if not task.completed]\n",
    "        if not pending_tasks:\n",
    "            print(\"No pending tasks.\")\n",
    "        else:\n",
    "            print(\"Pending tasks:\")\n",
    "            for task in pending_tasks:\n",
    "                print(task)\n",
    "\n",
    "todo_list = ToDoList()\n",
    "todo_list.add_task(\"Finish homework\", \"2024-05-21\")\n",
    "todo_list.add_task(\"Buy groceries\", \"2024-05-20\")\n",
    "todo_list.add_task(\"Schedule dentist appointment\", \"2024-05-25\")\n",
    "\n",
    "todo_list.display_pending_tasks()\n",
    "todo_list.mark_task_completed(\"Buy groceries\")\n",
    "todo_list.display_pending_tasks()"
   ]
  }
 ],
 "metadata": {
  "kernelspec": {
   "display_name": "Python 3 (ipykernel)",
   "language": "python",
   "name": "python3"
  },
  "language_info": {
   "codemirror_mode": {
    "name": "ipython",
    "version": 3
   },
   "file_extension": ".py",
   "mimetype": "text/x-python",
   "name": "python",
   "nbconvert_exporter": "python",
   "pygments_lexer": "ipython3",
   "version": "3.11.7"
  },
  "widgets": {
   "application/vnd.jupyter.widget-state+json": {
    "state": {},
    "version_major": 2,
    "version_minor": 0
   }
  }
 },
 "nbformat": 4,
 "nbformat_minor": 5
}
